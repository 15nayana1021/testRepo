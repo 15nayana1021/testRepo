{
 "cells": [
  {
   "cell_type": "markdown",
   "id": "c2db31ce",
   "metadata": {},
   "source": [
    "2025-09-18"
   ]
  },
  {
   "cell_type": "code",
   "execution_count": 1,
   "id": "288db623",
   "metadata": {},
   "outputs": [
    {
     "name": "stdout",
     "output_type": "stream",
     "text": [
      "HELLO World\n"
     ]
    }
   ],
   "source": [
    "print(\"HELLO World\")"
   ]
  }
 ],
 "metadata": {
  "kernelspec": {
   "display_name": "Python 3",
   "language": "python",
   "name": "python3"
  },
  "language_info": {
   "codemirror_mode": {
    "name": "ipython",
    "version": 3
   },
   "file_extension": ".py",
   "mimetype": "text/x-python",
   "name": "python",
   "nbconvert_exporter": "python",
   "pygments_lexer": "ipython3",
   "version": "3.12.1"
  }
 },
 "nbformat": 4,
 "nbformat_minor": 5
}
